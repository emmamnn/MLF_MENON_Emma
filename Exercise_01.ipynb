{
 "cells": [
  {
   "cell_type": "markdown",
   "metadata": {
    "id": "z2Jdst0Khkeh"
   },
   "source": [
    "# Exercise 1"
   ]
  },
  {
   "cell_type": "markdown",
   "metadata": {},
   "source": [
    "## Exercise 1.1"
   ]
  },
  {
   "cell_type": "markdown",
   "metadata": {
    "id": "4mKrJYuxiFmd"
   },
   "source": [
    "write a code that prints the following pattern. Try to use as few loops as possible.\n",
    "\n",
    "![image.png](data:image/png;base64,iVBORw0KGgoAAAANSUhEUgAAAE8AAACwCAYAAABO8DNKAAAEBElEQVR4nO2csXGrQBRF7/5xEVYnUuYOIFTo0CX8DqAEdwChS3CGOkFd7A+QJbSgP4a7gt3lnhkHZiSzPoCkdzSDsdZaiFn8WXsBMSN5BHfyznUOY3LU597GUzncJjqsQ1PAIqts2/1mC8AWjfsoYa21xlr3DeOE0hyAxuLt2+CABvbvfp0jGzgvw017vFcZdgcDIEPVStxDxk/I7nKFrtf/MiqvKWCB7kf+HjOU1xQWyGzV/kgsrPyN48hrbZX1L9fu8s2qdvGFxcCdvNEzrSl0+T5g5KOK+C0azwgkj0DyCCSPQPIIJI9A8ggkj0DyCDxm+BNKY2DKU/8vos7dbQnhzmtUhm8rm/Ue31ZZ72+lh/cMf65z7Ooj2k/gY1fj2H7h+Or5iIfCmNG2yi4xtOt607hU6A2U6Kdk+E7+HPFx4T/DX173ACT9emet9wzfK9EXiSlXaL8Zvife2p/LN93vQPxl+NEz7XIwEr18leEJNJ4RSB6B5BFIHoHkEUgegeQRSB6B5BEEk+FPpYExJe6eXeeDbUHhzmvrZXgnSrSVzQJvgiM97yasKaYH0auwOf/89TmdyNBzVnAZ/hZiw09Z4WX4iCJqYBn+8ro3+6xflqAy/K08xxFRA8rwzr6cd+4QCSTDjz8u9K8wleEJNJ4RSB6B5BFIHoHkEUgegeQRSB6B5BGkkeHPNXJjkN8vHOVgm2fceS3aDO9EiTkVfCpJZfjreptikRKdVobvhdglSnRyGX7J25mkleEv7XHuWT+VhDJ8r0QvdDuTZDK8u6/7Tw3PIY0MP7rG599MTBmeQOMZgeQRSB6B5BFIHoHkEUgegeQRSB6BMjyz7uGYuMEMP3PdyvDEupXhb3uevG5l+LtdT1u3Mvx119PXrQxPrFsZnli3MjyxbmV4Ao1nBJJHIHkEkkcgeQSSRyB5BJJHIHkEyvAMwzFxgxl+JsrwBMrwBMrwBMrwBMrwBMrwBMrwBMrwBBrPCCSPQPIIJI9A8ggkj0DyCCSPQPII0sjwazEcEyPN8CuQVIZfmrQy/MIkl+GXJK0MvzAJZfjlSSbDr0EaGX4llOEJNJ4RSB6B5BFIHoHkEUgegeQRSB6B5BEEk+GjxJ3X1svw8TEy255QmgPQWLx9GxzQwP7d//pgnOscu/qI9hP42NU4tl84vno+4qEwZnTNDB8T4WX4iAgsw8dFUBk+NgLK8PERSIaPE2V4Ao1nBJJHIHkEkkcgeQSSRyB5BJJHIHkEHjP8BnHnNSrDbwzvGX5LvAw37fFeZdgdDIAMVStxDxk/IZ9/c4MU8J/hN4TnDL8t/Gb4jeEvw28QZXgCjWcEkkcgeQSSRyB5BJJHIHkEkkcgeQSSRyB5BP8A6GfFYXaAVpYAAAAASUVORK5CYII=)\n",
    "\n",
    "Avoid using trivial solutions like:\n",
    "\n",
    "print('X') \n",
    "\n",
    "print('X X')\n",
    "\n",
    "print('X X X')\n",
    "\n",
    ".....\n",
    "\n",
    "print('X X X')\n",
    "\n",
    "print('X X')\n",
    "\n",
    "print('X')\n"
   ]
  },
  {
   "cell_type": "code",
   "execution_count": 74,
   "metadata": {},
   "outputs": [
    {
     "name": "stdout",
     "output_type": "stream",
     "text": [
      "X\n",
      "X X\n",
      "X X X\n",
      "X X X X\n",
      "X X X X X\n",
      "X X X X\n",
      "X X X\n",
      "X X\n",
      "X\n"
     ]
    }
   ],
   "source": [
    "x_dic={1: 'X', 2: 'X X', 3: 'X X X', 4:'X X X X', 5: 'X X X X X'}\n",
    "index=[1, 2, 3, 4, 5, 4, 3, 2, 1]\n",
    "for i in index:\n",
    "    print(x_dic[i])\n",
    "\n"
   ]
  },
  {
   "cell_type": "markdown",
   "metadata": {
    "id": "nOAWuH8qp79q"
   },
   "source": [
    "## Exercise 1.2"
   ]
  },
  {
   "cell_type": "markdown",
   "metadata": {
    "id": "Zz2j3lx6qH2K"
   },
   "source": [
    "Write a script that will sum all numbers in the following string. You can split each number into single digits, so for example, you can consider 45 to be 4 and 5"
   ]
  },
  {
   "cell_type": "code",
   "execution_count": 75,
   "metadata": {
    "id": "15fJxcCsqBH7"
   },
   "outputs": [
    {
     "name": "stdout",
     "output_type": "stream",
     "text": [
      "34\n"
     ]
    }
   ],
   "source": [
    "input_str = \"n45as29@#8ss6\"\n",
    "numbers_in_string=[int(char) for char in input_str if char.isdigit()]\n",
    "result=sum(numbers_in_string)\n",
    "print(result)"
   ]
  },
  {
   "cell_type": "markdown",
   "metadata": {
    "id": "NjNQc3AXMPmi"
   },
   "source": [
    "## Exercise 1.3"
   ]
  },
  {
   "cell_type": "markdown",
   "metadata": {
    "id": "-algCktYMZ4Q"
   },
   "source": [
    "Write a script that will convert an arbitrary integer to a binary number (the number will be represented as a string with only *0* and *1*). Avoid using the *bin()* function or any other pythons default functions"
   ]
  },
  {
   "cell_type": "code",
   "execution_count": 76,
   "metadata": {},
   "outputs": [
    {
     "name": "stdout",
     "output_type": "stream",
     "text": [
      "My binary conversion :  1100100\n",
      "Python binary conversion :  0b1100100\n"
     ]
    }
   ],
   "source": [
    "def BinaryConversion(a):\n",
    "    binary=''\n",
    "    while a>0:\n",
    "        binary=str(a%2)+binary\n",
    "        a= a//2\n",
    "    return binary\n",
    "\n",
    "print(\"My binary conversion : \", BinaryConversion(100))\n",
    "print(\"Python binary conversion : \", bin(100))\n"
   ]
  },
  {
   "cell_type": "markdown",
   "metadata": {
    "id": "pCSSAjAj0ZlY"
   },
   "source": [
    "## Exercise 1.4 - The Fibonacci Sequence:"
   ]
  },
  {
   "cell_type": "markdown",
   "metadata": {
    "id": "JPgVzgDG1pwt"
   },
   "source": [
    "The Fibonacci Sequence is a series of numbers. The following number is found by adding up the two numbers before it. The first two numbers are 0 and 1. For example, 0, 1, 1, 2, 3, 5, 8, 13. The following number in this series above is 8 + 13 = 21"
   ]
  },
  {
   "cell_type": "markdown",
   "metadata": {
    "id": "uEHzKT7k1sfr"
   },
   "source": [
    "\n",
    "Your task is to implement a function *fibonacci* that takes an integer as an input and returns a list that contains all Fibonacci numbers with values lower than the input integer\n",
    "\n",
    "Example:\n",
    "\n",
    "*print(fibonaci(10))*\n",
    "\n",
    "[0, 1, 1, 2, 3, 5, 8]\n"
   ]
  },
  {
   "cell_type": "code",
   "execution_count": 77,
   "metadata": {
    "id": "Lu9nP9hG2VzU"
   },
   "outputs": [
    {
     "data": {
      "text/plain": [
       "[0, 1, 1, 2, 3, 5, 8, 13, 21, 34, 55]"
      ]
     },
     "execution_count": 77,
     "metadata": {},
     "output_type": "execute_result"
    }
   ],
   "source": [
    "def fibonacci(upper_threshold: int) -> list:\n",
    "    if (upper_threshold == 1):\n",
    "        return [0]\n",
    "    if (upper_threshold == 0):\n",
    "        return []\n",
    "    \n",
    "    res=[0,1]\n",
    "    while res[-1]<upper_threshold:\n",
    "        adding_nb=res[-1]+res[-2]\n",
    "        res.append(adding_nb)\n",
    "    return res[0:-1]\n",
    "\n",
    "fibonacci(60)"
   ]
  },
  {
   "cell_type": "markdown",
   "metadata": {},
   "source": [
    "#### Advanced"
   ]
  },
  {
   "cell_type": "markdown",
   "metadata": {},
   "source": [
    "Try to implement the function using multiple approaches: *Iterative approach*, *Recusrion*, *Memoization*"
   ]
  },
  {
   "cell_type": "code",
   "execution_count": 78,
   "metadata": {},
   "outputs": [
    {
     "data": {
      "text/plain": [
       "[0, 1, 1, 2, 3, 5, 8, 13, 21, 34, 55, 89]"
      ]
     },
     "execution_count": 78,
     "metadata": {},
     "output_type": "execute_result"
    }
   ],
   "source": [
    "def fibonacci_recursive_term(n: int) -> int:\n",
    "    if n == 0:\n",
    "        return 0\n",
    "    elif n == 1:\n",
    "        return 1\n",
    "    else:\n",
    "        return fibonacci_recursive_term(n - 1) + fibonacci_recursive_term(n - 2)\n",
    "\n",
    "def fibonacci_recursive_list(upper_threshold: int) -> list:\n",
    "    res=[]\n",
    "    i=0\n",
    "    term=fibonacci_recursive_term(i)\n",
    "    while term < upper_threshold:\n",
    "        res.append(term) \n",
    "        i+=1\n",
    "        term=fibonacci_recursive_term(i)\n",
    "    return res \n",
    "\n",
    "fibonacci_recursive_list(90)"
   ]
  },
  {
   "cell_type": "code",
   "execution_count": 79,
   "metadata": {},
   "outputs": [
    {
     "data": {
      "text/plain": [
       "[0, 1, 1, 2, 3, 5, 8, 13, 21, 34, 55, 89]"
      ]
     },
     "execution_count": 79,
     "metadata": {},
     "output_type": "execute_result"
    }
   ],
   "source": [
    "def fibonacci_iterative_term(num_terms: int) -> int :\n",
    "    a, b = 0, 1\n",
    "    for _ in range(num_terms):\n",
    "        a, b = b, a + b\n",
    "    return a\n",
    "\n",
    "def fibonacci_iterative_list(upper_threshold: int) -> list:\n",
    "    res=[]\n",
    "    i=0\n",
    "    term=fibonacci_iterative_term(i)\n",
    "    while term < upper_threshold:\n",
    "        res.append(term) \n",
    "        i+=1\n",
    "        term=fibonacci_iterative_term(i)\n",
    "    return res\n",
    "\n",
    "fibonacci_iterative_list(90) "
   ]
  },
  {
   "cell_type": "code",
   "execution_count": 80,
   "metadata": {},
   "outputs": [
    {
     "data": {
      "text/plain": [
       "[0, 1, 1, 2, 3, 5, 8, 13, 21, 34, 55, 89]"
      ]
     },
     "execution_count": 80,
     "metadata": {},
     "output_type": "execute_result"
    }
   ],
   "source": [
    "from functools import lru_cache\n",
    "\n",
    "@lru_cache(maxsize=None)\n",
    "def fibonacci_memoization_term(n: int) -> int:\n",
    "    if n == 0:\n",
    "        return 0\n",
    "    elif n == 1:\n",
    "        return 1\n",
    "    else:\n",
    "        return fibonacci_memoization_term(n - 1) + fibonacci_memoization_term(n - 2)\n",
    "\n",
    "def fibonacci_memoization_list(upper_threshold: int) -> list:\n",
    "    res=[]\n",
    "    i=0\n",
    "    term=fibonacci_memoization_term(i)\n",
    "    while term < upper_threshold:\n",
    "        res.append(term) \n",
    "        i+=1\n",
    "        term=fibonacci_memoization_term(i)\n",
    "    return res \n",
    "\n",
    "fibonacci_memoization_list(90)"
   ]
  },
  {
   "cell_type": "markdown",
   "metadata": {
    "id": "eVT1qWQGgXm2"
   },
   "source": [
    "## Exercise 1.5. -  Rock, Paper, Scissors game:"
   ]
  },
  {
   "cell_type": "markdown",
   "metadata": {},
   "source": [
    "#### basic"
   ]
  },
  {
   "cell_type": "markdown",
   "metadata": {},
   "source": [
    "*Rock, Paper, Scissors* is a well-known and straightforward game. If you do not know the rules, google them. We will write a code for the Rock, Paper, Scissors game where the user plays against a random computer. The code can be written into one function *rock_paper_scissors*.\n",
    "\n",
    "Notes:\n",
    "- This implementation uses the **random** library to enable the computer to make a random choice.\n",
    "- Keyword **Input** may be helpful. Check it\n",
    "- After the function is run, the program will ask you about your movement, which you type in\n",
    "- The game is case-insensitive for user input (e.g., \"rock\", \"Rock\", and \"ROCK\" are all valid).\n",
    "- This script plays one round of the game.\n",
    "- The script prints the result ('You lose', 'You win', 'It is a tie')\n"
   ]
  },
  {
   "cell_type": "code",
   "execution_count": 81,
   "metadata": {},
   "outputs": [
    {
     "name": "stdout",
     "output_type": "stream",
     "text": [
      "It is a tie\n"
     ]
    }
   ],
   "source": [
    "import random\n",
    "\n",
    "def rock_paper_scissors() -> None:\n",
    "    options = [\"rock\", \"paper\", \"scissors\"]\n",
    "    player_move=input(\"What is your movement ?\").casefold()\n",
    "    if player_move not in options:\n",
    "        print(\"Move incorrect\")\n",
    "        return\n",
    "    computer_move=random.choice(options).casefold()\n",
    "    #print(computer_move)\n",
    "    if player_move == computer_move:\n",
    "        print('It is a tie')\n",
    "    elif player_move=='rock':\n",
    "        if computer_move == 'paper':\n",
    "            print('You loose')\n",
    "        else:\n",
    "            print('You win')\n",
    "    elif player_move=='paper':\n",
    "        if computer_move == 'scissors':\n",
    "            print('You loose')\n",
    "        else:\n",
    "            print('You win') \n",
    "    elif player_move=='scissors':\n",
    "        if computer_move == 'rock':\n",
    "            print('You loose')\n",
    "        else:\n",
    "            print('You win')\n",
    "     \n",
    "\n",
    "rock_paper_scissors()"
   ]
  },
  {
   "cell_type": "markdown",
   "metadata": {},
   "source": [
    "#### Advanced"
   ]
  },
  {
   "cell_type": "markdown",
   "metadata": {},
   "source": [
    "Extend the Rock, Paper, Scissors game to be able to play *n* rounds. \n",
    "\n",
    "Notes: \n",
    "- The scrips will contain two counters - user score and computer score\n",
    "- After each run, the script prints the current scores and rounds.\n",
    "- When the number of rounds is reached, the script prints the result ('You lose', 'You win', 'It is a tie')"
   ]
  },
  {
   "cell_type": "code",
   "execution_count": 82,
   "metadata": {},
   "outputs": [
    {
     "name": "stdout",
     "output_type": "stream",
     "text": [
      "You loose\n",
      "--- Scores at round n° 1 ---\n",
      "Computer victories : 1 \n",
      "Your victories : 0\n",
      "Number of tie : 0\n",
      "It is a tie\n",
      "--- Scores at round n° 2 ---\n",
      "Computer victories : 1 \n",
      "Your victories : 0\n",
      "Number of tie : 1\n",
      "It is a tie\n",
      "--- Scores at round n° 3 ---\n",
      "Computer victories : 1 \n",
      "Your victories : 0\n",
      "Number of tie : 2\n",
      "In the end, you loose\n"
     ]
    }
   ],
   "source": [
    "import random\n",
    "\n",
    "def rock_paper_scissors_multiple_round(n) -> None:\n",
    "    options = [\"rock\", \"paper\", \"scissors\"]\n",
    "    computer_victories=0\n",
    "    player_victories=0\n",
    "    number_of_tie=0\n",
    "    nb_of_round=0\n",
    "    \n",
    "    while nb_of_round!=n:\n",
    "        player_move=input(\"What is your movement ?\").casefold()\n",
    "        if player_move not in options:\n",
    "            print(\"Move incorrect\")\n",
    "            continue\n",
    "        computer_move=random.choice(options).casefold()\n",
    "        #print(computer_move)\n",
    "        if player_move == computer_move:\n",
    "            print('It is a tie')\n",
    "            number_of_tie=number_of_tie+1\n",
    "        elif player_move=='rock':\n",
    "            if computer_move == 'paper':\n",
    "                print('You loose')\n",
    "                computer_victories=computer_victories+1\n",
    "            else:\n",
    "                print('You win')\n",
    "                player_victories=player_victories+1\n",
    "        elif player_move=='paper':\n",
    "            if computer_move == 'scissors':\n",
    "                print('You loose')\n",
    "                computer_victories=computer_victories+1\n",
    "            else:\n",
    "                print('You win') \n",
    "                player_victories=player_victories+1\n",
    "        else :\n",
    "            if computer_move == 'rock':\n",
    "                print('You loose')\n",
    "                computer_victories=computer_victories+1\n",
    "            else:\n",
    "                print('You win')\n",
    "                player_victories=player_victories+1\n",
    "\n",
    "        nb_of_round+=1\n",
    "        print('--- Scores at round n° %d ---' % nb_of_round)\n",
    "        print(\"Computer victories : %d \" % computer_victories)\n",
    "        print(\"Your victories : %d\" % player_victories)\n",
    "        print(\"Number of tie : %d\" % number_of_tie)\n",
    "\n",
    "    if computer_victories>player_victories:\n",
    "        print(\"In the end, you loose\")\n",
    "    elif computer_victories==player_victories:\n",
    "        print(\"In the end, it is a tie\")\n",
    "    else:\n",
    "        print(\"In the end, you win\") \n",
    "\n",
    "rock_paper_scissors_multiple_round(3)"
   ]
  },
  {
   "cell_type": "markdown",
   "metadata": {},
   "source": [
    "We also could have use the first function if it returned something, for example an int : 0 if a tie, 1 if you win, 2 if you loose."
   ]
  },
  {
   "cell_type": "markdown",
   "metadata": {
    "id": "Tu7yI05aT1y5"
   },
   "source": [
    "# Exercise 2"
   ]
  },
  {
   "cell_type": "markdown",
   "metadata": {},
   "source": [
    "The purpose of this excercise is to practise working with NumPy library"
   ]
  },
  {
   "cell_type": "markdown",
   "metadata": {
    "id": "7GaHLE8Zh8aJ"
   },
   "source": [
    "## Exercise 2.1\n"
   ]
  },
  {
   "cell_type": "markdown",
   "metadata": {},
   "source": [
    "In this exercise, you will work with NumPy arrays and learn how to efficiently modify and process them using both loops and vectorized operations. Your task is to:"
   ]
  },
  {
   "cell_type": "markdown",
   "metadata": {
    "id": "ZIyURJ6HZ5Rb"
   },
   "source": [
    "1. Implement the function *create_array_nxn* that generates an n×n NumPy array filled with numbers from n² - 1 down to 0\n",
    "2. Using a loop-based approach (for-loop, while-loop), implement the function *apply_threshold_loop* that takes any NumPy array and replaces all numbers below a user-defined threshold with 0.\n",
    "3. Implement function *apply_threshold_vectorized* that performs the same operation as *apply_threshold_loop*, but without loops, using NumPy vectorized operations\n",
    "4. Implement function *compare_performance* that compares the execution time of functions *apply_threshold_vectorized* and *apply_threshold_loop* with **time** library and print the results\n"
   ]
  },
  {
   "cell_type": "markdown",
   "metadata": {},
   "source": [
    "**Additional Notes**:\n",
    "\n",
    "- Ensure n is a positive integer (n > 0).\n",
    "- Use the time library to measure execution times for performance comparison.\n",
    "- The function *compare_performance(n, threshold)* should:\n",
    "    - Generate an n×n array.\n",
    "    - Apply both loop-based and vectorized thresholding.\n",
    "    - Print execution times."
   ]
  },
  {
   "cell_type": "code",
   "execution_count": 83,
   "metadata": {},
   "outputs": [],
   "source": [
    "import numpy as np\n",
    "import time"
   ]
  },
  {
   "cell_type": "code",
   "execution_count": 84,
   "metadata": {},
   "outputs": [
    {
     "data": {
      "text/plain": [
       "array([[24, 23, 22, 21, 20],\n",
       "       [19, 18, 17, 16, 15],\n",
       "       [14, 13, 12, 11, 10],\n",
       "       [ 9,  8,  7,  6,  5],\n",
       "       [ 4,  3,  2,  1,  0]])"
      ]
     },
     "execution_count": 84,
     "metadata": {},
     "output_type": "execute_result"
    }
   ],
   "source": [
    "def create_array_nxn(n: int) -> np.ndarray:\n",
    "    if n<=0 :\n",
    "        print(\"n must be a positive integer\")\n",
    "        return \n",
    "    \n",
    "    mat=np.ndarray(shape=(n,n), dtype=int, buffer=np.arange(n**2-1, -1, -1))\n",
    "    return mat\n",
    "\n",
    "create_array_nxn(5)\n"
   ]
  },
  {
   "cell_type": "code",
   "execution_count": 85,
   "metadata": {},
   "outputs": [
    {
     "name": "stdout",
     "output_type": "stream",
     "text": [
      "[[24 23 22 21 20]\n",
      " [19 18 17 16 15]\n",
      " [14 13 12 11 10]\n",
      " [ 9  8  7  6  5]\n",
      " [ 4  3  2  1  0]]\n",
      "[[24 23 22 21 20]\n",
      " [19 18 17 16 15]\n",
      " [14 13 12 11 10]\n",
      " [ 0  0  0  0  0]\n",
      " [ 0  0  0  0  0]]\n"
     ]
    }
   ],
   "source": [
    "def apply_threshold_loop(arr: np.ndarray, threshold: int) -> np.ndarray:\n",
    "    n=np.shape(arr)[1]\n",
    "    for i in range(n):\n",
    "        for j in range(n):\n",
    "            if arr[i,j]<threshold:\n",
    "                arr[i,j]=0\n",
    "    return arr\n",
    "\n",
    "mat=create_array_nxn(5)\n",
    "print(mat)\n",
    "apply_threshold_loop(mat,10)\n",
    "print(mat)\n"
   ]
  },
  {
   "cell_type": "code",
   "execution_count": 86,
   "metadata": {},
   "outputs": [
    {
     "name": "stdout",
     "output_type": "stream",
     "text": [
      "[[24 23 22 21 20]\n",
      " [19 18 17 16 15]\n",
      " [14 13 12 11 10]\n",
      " [ 9  8  7  6  5]\n",
      " [ 4  3  2  1  0]]\n",
      "[[24 23 22 21 20]\n",
      " [19 18 17 16 15]\n",
      " [14 13 12  0  0]\n",
      " [ 0  0  0  0  0]\n",
      " [ 0  0  0  0  0]]\n"
     ]
    }
   ],
   "source": [
    "def apply_threshold_vectorized(arr: np.ndarray, threshold: int) -> np.ndarray:\n",
    "    arr[arr < threshold]=0\n",
    "    return arr\n",
    "\n",
    "mat2=create_array_nxn(5)\n",
    "print(mat2)\n",
    "apply_threshold_loop(mat2,12)\n",
    "print(mat2)"
   ]
  },
  {
   "cell_type": "code",
   "execution_count": 87,
   "metadata": {},
   "outputs": [
    {
     "name": "stdout",
     "output_type": "stream",
     "text": [
      "Execution time for the loop : 0.718221 s\n",
      "Execution time for the vectorized method : 0.003748 s\n"
     ]
    }
   ],
   "source": [
    "def compare_performance(n: int, threshold: int) -> None:\n",
    "    matrix_loop=create_array_nxn(n)\n",
    "    matrix_vectorize=create_array_nxn(n)\n",
    "    time_loop_bf=time.time()\n",
    "    apply_threshold_loop(matrix_loop, threshold)\n",
    "    time_loop_af=time.time()\n",
    "    \n",
    "    time_vect_bf=time.time()\n",
    "    apply_threshold_vectorized(matrix_vectorize, threshold)\n",
    "    time_vect_af=time.time()\n",
    "\n",
    "    print(\"Execution time for the loop : %.6f s\" % (time_loop_af-time_loop_bf))\n",
    "    print(\"Execution time for the vectorized method : %.6f s\" % (time_vect_af-time_vect_bf))\n",
    "\n",
    "compare_performance(2000, 100)"
   ]
  },
  {
   "cell_type": "markdown",
   "metadata": {
    "id": "tl_vFRrwiArx"
   },
   "source": [
    "## Exercise 2.2 - Digi display\n",
    "\n",
    "#### basic\n",
    "\n",
    "The task will be to create a simulation of a Digi display that will be able to display an arbitrary integer\n",
    "   \n",
    "*hint: to show the image, use the library matplotlib.pyplot. Also, you may find function *np.concatenate* helpful"
   ]
  },
  {
   "cell_type": "code",
   "execution_count": 88,
   "metadata": {
    "id": "ha5_BgE0mxoY"
   },
   "outputs": [
    {
     "data": {
      "image/png": "[encoded data removed]",
      "text/plain": [
       "<Figure size 640x480 with 1 Axes>"
      ]
     },
     "metadata": {},
     "output_type": "display_data"
    }
   ],
   "source": [
    "import matplotlib.pyplot as plt\n",
    "\n",
    "def show_in_digit(input_integer: int) -> None:\n",
    "    numbs = {\n",
    "        \"1\": np.array([[0, 1, 1], [1, 0, 1], [0, 0, 1], [0, 0, 1], [0, 0, 1]]), # 1\n",
    "        \"2\": np.array([[1, 1, 1], [0, 0, 1], [1, 1, 1], [1, 0, 0], [1, 1, 1]]), # 2\n",
    "        \"3\": np.array([[1, 1, 1], [0, 0, 1], [1, 1, 1], [0, 0, 1], [1, 1, 1]]), # 3\n",
    "        \"4\": np.array([[1, 0, 1], [1, 0, 1], [1, 1, 1], [0, 0, 1], [0, 0, 1]]), # 4\n",
    "        \"5\": np.array([[1, 1, 1], [1, 0, 0], [1, 1, 1], [0, 0, 1], [1, 1, 1]]), # 5\n",
    "        \"6\": np.array([[1, 1, 1], [1, 0, 0], [1, 1, 1], [1, 0, 1], [1, 1, 1]]), # 6\n",
    "        \"7\": np.array([[1, 1, 1], [0, 0, 1], [0, 0, 1], [0, 0, 1], [0, 0, 1]]), # 7\n",
    "        \"8\": np.array([[1, 1, 1], [1, 0, 1], [1, 1, 1], [1, 0, 1], [1, 1, 1]]), # 8\n",
    "        \"9\": np.array([[1, 1, 1], [1, 0, 1], [1, 1, 1], [0, 0, 1], [1, 1, 1]]), # 9\n",
    "        \"0\": np.array([[1, 1, 1], [1, 0, 1], [1, 0, 1], [1, 0, 1], [1, 1, 1]]), # 0\n",
    "    }\n",
    "\n",
    "    list_of_digits = [int(digit) for digit in str(input_integer)]\n",
    "\n",
    "    fig, ax = plt.subplots()\n",
    "    digit_concat = []\n",
    "    black_column = np.zeros((numbs[\"1\"].shape[0], 1))\n",
    "\n",
    "    for i, digit in enumerate(list_of_digits):\n",
    "        one_digit_array = numbs[str(digit)]\n",
    "        if i== 0:\n",
    "            digit_with_black_column = np.concatenate((black_column, one_digit_array, black_column), axis=1)\n",
    "        else:\n",
    "            digit_with_black_column= np.concatenate((one_digit_array, black_column), axis=1)\n",
    "        digit_concat.append(digit_with_black_column)\n",
    "\n",
    "    #digit_concat=np.concatenate((black_column, digit_concat), axis=1)\n",
    "    final_image = np.hstack(digit_concat)\n",
    "    ax.imshow(final_image, cmap=\"gray\", interpolation=\"nearest\")\n",
    "    plt.show()\n",
    "\n",
    "show_in_digit(5289)"
   ]
  },
  {
   "cell_type": "markdown",
   "metadata": {
    "id": "pcOmCLI1muSr"
   },
   "source": [
    "show_in_digi(5289) will show:\n"
   ]
  },
  {
   "cell_type": "markdown",
   "metadata": {
    "id": "aHN2vh9dm-S5"
   },
   "source": [
    "![image.png](data:image/png;base64,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)"
   ]
  },
  {
   "cell_type": "markdown",
   "metadata": {},
   "source": [
    "*hint2: you may find the following dict usefull*"
   ]
  },
  {
   "cell_type": "code",
   "execution_count": 89,
   "metadata": {},
   "outputs": [],
   "source": [
    "numbs = {\n",
    "      \"1\": np.array([[0, 1, 1], [1, 0, 1], [0, 0, 1], [0, 0, 1], [0, 0, 1]]), # 1\n",
    "      \"2\": np.array([[1, 1, 1], [0, 0, 1], [1, 1, 1], [1, 0, 0], [1, 1, 1]]), # 2\n",
    "      \"3\": np.array([[1, 1, 1], [0, 0, 1], [1, 1, 1], [0, 0, 1], [1, 1, 1]]), # 3\n",
    "      \"4\": np.array([[1, 0, 1], [1, 0, 1], [1, 1, 1], [0, 0, 1], [0, 0, 1]]), # 4\n",
    "      \"5\": np.array([[1, 1, 1], [1, 0, 0], [1, 1, 1], [0, 0, 1], [1, 1, 1]]), # 5\n",
    "      \"6\": np.array([[1, 1, 1], [1, 0, 0], [1, 1, 1], [1, 0, 1], [1, 1, 1]]), # 6\n",
    "      \"7\": np.array([[1, 1, 1], [0, 0, 1], [0, 0, 1], [0, 0, 1], [0, 0, 1]]), # 7\n",
    "      \"8\": np.array([[1, 1, 1], [1, 0, 1], [1, 1, 1], [1, 0, 1], [1, 1, 1]]), # 8\n",
    "      \"9\": np.array([[1, 1, 1], [1, 0, 1], [1, 1, 1], [0, 0, 1], [1, 1, 1]]), # 9\n",
    "      \"0\": np.array([[1, 1, 1], [1, 0, 1], [1, 0, 1], [1, 0, 1], [1, 1, 1]]), # 0\n",
    "  }"
   ]
  },
  {
   "cell_type": "markdown",
   "metadata": {},
   "source": [
    "#### advanced"
   ]
  },
  {
   "cell_type": "markdown",
   "metadata": {},
   "source": [
    "Extend your *show_in_digi* function to be able to display an arbitary float number and negative numbers"
   ]
  },
  {
   "cell_type": "code",
   "execution_count": 90,
   "metadata": {},
   "outputs": [
    {
     "data": {
      "image/png": "[encoded data removed]",
      "text/plain": [
       "<Figure size 640x480 with 1 Axes>"
      ]
     },
     "metadata": {},
     "output_type": "display_data"
    }
   ],
   "source": [
    "\n",
    "def advanced_show_in_digit(input) -> None:\n",
    "    numbs = {\n",
    "        \"1\": np.array([[0, 1, 1], [1, 0, 1], [0, 0, 1], [0, 0, 1], [0, 0, 1]]), # 1\n",
    "        \"2\": np.array([[1, 1, 1], [0, 0, 1], [1, 1, 1], [1, 0, 0], [1, 1, 1]]), # 2\n",
    "        \"3\": np.array([[1, 1, 1], [0, 0, 1], [1, 1, 1], [0, 0, 1], [1, 1, 1]]), # 3\n",
    "        \"4\": np.array([[1, 0, 1], [1, 0, 1], [1, 1, 1], [0, 0, 1], [0, 0, 1]]), # 4\n",
    "        \"5\": np.array([[1, 1, 1], [1, 0, 0], [1, 1, 1], [0, 0, 1], [1, 1, 1]]), # 5\n",
    "        \"6\": np.array([[1, 1, 1], [1, 0, 0], [1, 1, 1], [1, 0, 1], [1, 1, 1]]), # 6\n",
    "        \"7\": np.array([[1, 1, 1], [0, 0, 1], [0, 0, 1], [0, 0, 1], [0, 0, 1]]), # 7\n",
    "        \"8\": np.array([[1, 1, 1], [1, 0, 1], [1, 1, 1], [1, 0, 1], [1, 1, 1]]), # 8\n",
    "        \"9\": np.array([[1, 1, 1], [1, 0, 1], [1, 1, 1], [0, 0, 1], [1, 1, 1]]), # 9\n",
    "        \"0\": np.array([[1, 1, 1], [1, 0, 1], [1, 0, 1], [1, 0, 1], [1, 1, 1]]), # 0\n",
    "        \".\": np.array([[0], [0], [0], [0], [1]]), #.\n",
    "        \"-\": np.array([[0, 0], [0, 0], [1, 1], [0, 0], [0, 0]])\n",
    "    }\n",
    "\n",
    "    list_of_char = [char for char in str(input)]\n",
    "    fig, ax = plt.subplots()\n",
    "    digit_concat = []\n",
    "    black_column = np.zeros((numbs[\"1\"].shape[0], 1))\n",
    "\n",
    "    for i, char in enumerate(list_of_char):\n",
    "        one_digit_array = numbs[char]\n",
    "        if i== 0:\n",
    "            digit_with_black_column = np.concatenate((black_column, one_digit_array, black_column), axis=1)\n",
    "        else:\n",
    "            digit_with_black_column= np.concatenate((one_digit_array, black_column), axis=1)\n",
    "        digit_concat.append(digit_with_black_column)\n",
    "\n",
    "    final_image = np.hstack(digit_concat)\n",
    "    ax.imshow(final_image, cmap=\"gray\", interpolation=\"nearest\")\n",
    "    plt.show()\n",
    "\n",
    "advanced_show_in_digit(-5289.0)\n"
   ]
  },
  {
   "cell_type": "markdown",
   "metadata": {
    "id": "6s8LqeO6fuS1"
   },
   "source": [
    "# Exercise 3 - Playing with California Housing Dataset"
   ]
  },
  {
   "cell_type": "markdown",
   "metadata": {
    "id": "9MV_c3_3f9V0"
   },
   "source": [
    "The purpose of this exercise is to learn basic operations of **pandas** library. Use *california_housing_dataset* you can find in google colab to do following operations:"
   ]
  },
  {
   "cell_type": "markdown",
   "metadata": {
    "id": "ZctJOSglgYjc"
   },
   "source": [
    "- check what *dataset.describe()* does"
   ]
  },
  {
   "cell_type": "code",
   "execution_count": 91,
   "metadata": {},
   "outputs": [
    {
     "name": "stdout",
     "output_type": "stream",
     "text": [
      "          longitude      latitude  housing_median_age   total_rooms  \\\n",
      "count  20640.000000  20640.000000        20640.000000  20640.000000   \n",
      "mean    -119.569704     35.631861           28.639486   2635.763081   \n",
      "std        2.003532      2.135952           12.585558   2181.615252   \n",
      "min     -124.350000     32.540000            1.000000      2.000000   \n",
      "25%     -121.800000     33.930000           18.000000   1447.750000   \n",
      "50%     -118.490000     34.260000           29.000000   2127.000000   \n",
      "75%     -118.010000     37.710000           37.000000   3148.000000   \n",
      "max     -114.310000     41.950000           52.000000  39320.000000   \n",
      "\n",
      "       total_bedrooms    population    households  median_income  \\\n",
      "count    20433.000000  20640.000000  20640.000000   20640.000000   \n",
      "mean       537.870553   1425.476744    499.539680       3.870671   \n",
      "std        421.385070   1132.462122    382.329753       1.899822   \n",
      "min          1.000000      3.000000      1.000000       0.499900   \n",
      "25%        296.000000    787.000000    280.000000       2.563400   \n",
      "50%        435.000000   1166.000000    409.000000       3.534800   \n",
      "75%        647.000000   1725.000000    605.000000       4.743250   \n",
      "max       6445.000000  35682.000000   6082.000000      15.000100   \n",
      "\n",
      "       median_house_value  \n",
      "count        20640.000000  \n",
      "mean        206855.816909  \n",
      "std         115395.615874  \n",
      "min          14999.000000  \n",
      "25%         119600.000000  \n",
      "50%         179700.000000  \n",
      "75%         264725.000000  \n",
      "max         500001.000000  \n"
     ]
    }
   ],
   "source": [
    "import pandas as pd\n",
    "dataset= pd.read_csv(\"housing.csv\")\n",
    "print(dataset.describe())\n"
   ]
  },
  {
   "cell_type": "markdown",
   "metadata": {
    "id": "ANvmvaQzpp2k"
   },
   "source": [
    "- display all rows where *total_bedrooms* column is bigger than 310"
   ]
  },
  {
   "cell_type": "code",
   "execution_count": 92,
   "metadata": {},
   "outputs": [
    {
     "name": "stdout",
     "output_type": "stream",
     "text": [
      "       longitude  latitude  housing_median_age  total_rooms  total_bedrooms  \\\n",
      "1        -122.22     37.86                21.0       7099.0          1106.0   \n",
      "6        -122.25     37.84                52.0       2535.0           489.0   \n",
      "7        -122.25     37.84                52.0       3104.0           687.0   \n",
      "8        -122.26     37.84                42.0       2555.0           665.0   \n",
      "9        -122.25     37.84                52.0       3549.0           707.0   \n",
      "...          ...       ...                 ...          ...             ...   \n",
      "20634    -121.56     39.27                28.0       2332.0           395.0   \n",
      "20635    -121.09     39.48                25.0       1665.0           374.0   \n",
      "20637    -121.22     39.43                17.0       2254.0           485.0   \n",
      "20638    -121.32     39.43                18.0       1860.0           409.0   \n",
      "20639    -121.24     39.37                16.0       2785.0           616.0   \n",
      "\n",
      "       population  households  median_income  median_house_value  \\\n",
      "1          2401.0      1138.0         8.3014            358500.0   \n",
      "6          1094.0       514.0         3.6591            299200.0   \n",
      "7          1157.0       647.0         3.1200            241400.0   \n",
      "8          1206.0       595.0         2.0804            226700.0   \n",
      "9          1551.0       714.0         3.6912            261100.0   \n",
      "...           ...         ...            ...                 ...   \n",
      "20634      1041.0       344.0         3.7125            116800.0   \n",
      "20635       845.0       330.0         1.5603             78100.0   \n",
      "20637      1007.0       433.0         1.7000             92300.0   \n",
      "20638       741.0       349.0         1.8672             84700.0   \n",
      "20639      1387.0       530.0         2.3886             89400.0   \n",
      "\n",
      "      ocean_proximity  \n",
      "1            NEAR BAY  \n",
      "6            NEAR BAY  \n",
      "7            NEAR BAY  \n",
      "8            NEAR BAY  \n",
      "9            NEAR BAY  \n",
      "...               ...  \n",
      "20634          INLAND  \n",
      "20635          INLAND  \n",
      "20637          INLAND  \n",
      "20638          INLAND  \n",
      "20639          INLAND  \n",
      "\n",
      "[14782 rows x 10 columns]\n"
     ]
    }
   ],
   "source": [
    "print(dataset[dataset[\"total_bedrooms\"]>310])\n"
   ]
  },
  {
   "cell_type": "markdown",
   "metadata": {
    "id": "AJnkbsLDpcrh"
   },
   "source": [
    "- drop also first and last row"
   ]
  },
  {
   "cell_type": "code",
   "execution_count": 93,
   "metadata": {},
   "outputs": [
    {
     "name": "stdout",
     "output_type": "stream",
     "text": [
      "   longitude  latitude  housing_median_age  total_rooms  total_bedrooms  \\\n",
      "0    -122.23     37.88                41.0        880.0           129.0   \n",
      "1    -122.22     37.86                21.0       7099.0          1106.0   \n",
      "2    -122.24     37.85                52.0       1467.0           190.0   \n",
      "3    -122.25     37.85                52.0       1274.0           235.0   \n",
      "4    -122.25     37.85                52.0       1627.0           280.0   \n",
      "\n",
      "   population  households  median_income  median_house_value ocean_proximity  \n",
      "0       322.0       126.0         8.3252            452600.0        NEAR BAY  \n",
      "1      2401.0      1138.0         8.3014            358500.0        NEAR BAY  \n",
      "2       496.0       177.0         7.2574            352100.0        NEAR BAY  \n",
      "3       558.0       219.0         5.6431            341300.0        NEAR BAY  \n",
      "4       565.0       259.0         3.8462            342200.0        NEAR BAY  \n",
      "   longitude  latitude  housing_median_age  total_rooms  total_bedrooms  \\\n",
      "1    -122.22     37.86                21.0       7099.0          1106.0   \n",
      "2    -122.24     37.85                52.0       1467.0           190.0   \n",
      "3    -122.25     37.85                52.0       1274.0           235.0   \n",
      "4    -122.25     37.85                52.0       1627.0           280.0   \n",
      "5    -122.25     37.85                52.0        919.0           213.0   \n",
      "\n",
      "   population  households  median_income  median_house_value ocean_proximity  \n",
      "1      2401.0      1138.0         8.3014            358500.0        NEAR BAY  \n",
      "2       496.0       177.0         7.2574            352100.0        NEAR BAY  \n",
      "3       558.0       219.0         5.6431            341300.0        NEAR BAY  \n",
      "4       565.0       259.0         3.8462            342200.0        NEAR BAY  \n",
      "5       413.0       193.0         4.0368            269700.0        NEAR BAY  \n",
      "       longitude  latitude  housing_median_age  total_rooms  total_bedrooms  \\\n",
      "20635    -121.09     39.48                25.0       1665.0           374.0   \n",
      "20636    -121.21     39.49                18.0        697.0           150.0   \n",
      "20637    -121.22     39.43                17.0       2254.0           485.0   \n",
      "20638    -121.32     39.43                18.0       1860.0           409.0   \n",
      "20639    -121.24     39.37                16.0       2785.0           616.0   \n",
      "\n",
      "       population  households  median_income  median_house_value  \\\n",
      "20635       845.0       330.0         1.5603             78100.0   \n",
      "20636       356.0       114.0         2.5568             77100.0   \n",
      "20637      1007.0       433.0         1.7000             92300.0   \n",
      "20638       741.0       349.0         1.8672             84700.0   \n",
      "20639      1387.0       530.0         2.3886             89400.0   \n",
      "\n",
      "      ocean_proximity  \n",
      "20635          INLAND  \n",
      "20636          INLAND  \n",
      "20637          INLAND  \n",
      "20638          INLAND  \n",
      "20639          INLAND  \n",
      "       longitude  latitude  housing_median_age  total_rooms  total_bedrooms  \\\n",
      "20634    -121.56     39.27                28.0       2332.0           395.0   \n",
      "20635    -121.09     39.48                25.0       1665.0           374.0   \n",
      "20636    -121.21     39.49                18.0        697.0           150.0   \n",
      "20637    -121.22     39.43                17.0       2254.0           485.0   \n",
      "20638    -121.32     39.43                18.0       1860.0           409.0   \n",
      "\n",
      "       population  households  median_income  median_house_value  \\\n",
      "20634      1041.0       344.0         3.7125            116800.0   \n",
      "20635       845.0       330.0         1.5603             78100.0   \n",
      "20636       356.0       114.0         2.5568             77100.0   \n",
      "20637      1007.0       433.0         1.7000             92300.0   \n",
      "20638       741.0       349.0         1.8672             84700.0   \n",
      "\n",
      "      ocean_proximity  \n",
      "20634          INLAND  \n",
      "20635          INLAND  \n",
      "20636          INLAND  \n",
      "20637          INLAND  \n",
      "20638          INLAND  \n"
     ]
    }
   ],
   "source": [
    "modified_dataset = dataset.drop(index=[0,dataset.index[-1]])\n",
    "print(dataset.head())\n",
    "print(modified_dataset.head())\n",
    "print(dataset.tail())\n",
    "print(modified_dataset.tail())\n",
    "\n",
    "#modified_dataset=dataset.iloc[1:-1] is better ? "
   ]
  },
  {
   "cell_type": "markdown",
   "metadata": {
    "id": "jjj3NIPGheCC"
   },
   "source": [
    "- save a mean of values in *households* columns to variable, using *matplotlib* display number of households in the graph (x-axis would be ID, y-axis - numbers of households) as dots with the same color, display also mean as a single line in the graph with different color as dots is"
   ]
  },
  {
   "cell_type": "code",
   "execution_count": 102,
   "metadata": {},
   "outputs": [
    {
     "data": {
      "text/plain": [
       "<function matplotlib.pyplot.show(close=None, block=None)>"
      ]
     },
     "execution_count": 102,
     "metadata": {},
     "output_type": "execute_result"
    },
    {
     "data": {
      "image/png": "[encoded data removed]",
      "text/plain": [
       "<Figure size 640x480 with 1 Axes>"
      ]
     },
     "metadata": {},
     "output_type": "display_data"
    }
   ],
   "source": [
    "mean_households=dataset[\"households\"].mean()\n",
    "x=np.arange(0, dataset.shape[0])\n",
    "plt.plot(x,dataset[\"households\"], 'o')\n",
    "plt.axhline(y = mean_households, color = 'r', linestyle = '-')\n",
    "plt.show\n"
   ]
  },
  {
   "cell_type": "markdown",
   "metadata": {
    "id": "Ga-8a7TFgFDT"
   },
   "source": [
    " - check if any of the columns contain NaN values, if yes, replace the NaN values with the arithmetic mean of the whole dataset "
   ]
  },
  {
   "cell_type": "code",
   "execution_count": 118,
   "metadata": {},
   "outputs": [
    {
     "name": "stdout",
     "output_type": "stream",
     "text": [
      "longitude             False\n",
      "latitude              False\n",
      "housing_median_age    False\n",
      "total_rooms           False\n",
      "total_bedrooms        False\n",
      "population            False\n",
      "households            False\n",
      "median_income         False\n",
      "median_house_value    False\n",
      "ocean_proximity       False\n",
      "dtype: bool\n"
     ]
    }
   ],
   "source": [
    "print(dataset.isna().any())\n",
    "mean_total_bedrooms=dataset[~dataset[\"total_bedrooms\"].isna()][\"total_bedrooms\"].mean()\n",
    "dataset.loc[dataset[\"total_bedrooms\"].isna(), \"total_bedrooms\"] = mean_total_bedrooms\n"
   ]
  },
  {
   "cell_type": "markdown",
   "metadata": {
    "id": "L6_0MzSRqYK9"
   },
   "source": [
    " - display *lat* and *long* into plot, *lat* would be on *x* axis and *long* on *y* axis "
   ]
  },
  {
   "cell_type": "code",
   "execution_count": 121,
   "metadata": {},
   "outputs": [
    {
     "data": {
      "image/png": "[encoded data removed]",
      "text/plain": [
       "<Figure size 640x480 with 1 Axes>"
      ]
     },
     "metadata": {},
     "output_type": "display_data"
    }
   ],
   "source": [
    "plt.plot(dataset[\"latitude\"],dataset[\"longitude\"],'o')\n",
    "plt.show()"
   ]
  },
  {
   "cell_type": "markdown",
   "metadata": {
    "id": "Eba6rEqcixWl"
   },
   "source": [
    "- choose two arbitrary columns and normalize all values inside using *min-max normalization*:"
   ]
  },
  {
   "cell_type": "code",
   "execution_count": 125,
   "metadata": {},
   "outputs": [
    {
     "name": "stdout",
     "output_type": "stream",
     "text": [
      "       longitude  latitude  housing_median_age  total_rooms  total_bedrooms  \\\n",
      "0        -122.23     37.88                41.0        880.0           129.0   \n",
      "1        -122.22     37.86                21.0       7099.0          1106.0   \n",
      "2        -122.24     37.85                52.0       1467.0           190.0   \n",
      "3        -122.25     37.85                52.0       1274.0           235.0   \n",
      "4        -122.25     37.85                52.0       1627.0           280.0   \n",
      "...          ...       ...                 ...          ...             ...   \n",
      "20635    -121.09     39.48                25.0       1665.0           374.0   \n",
      "20636    -121.21     39.49                18.0        697.0           150.0   \n",
      "20637    -121.22     39.43                17.0       2254.0           485.0   \n",
      "20638    -121.32     39.43                18.0       1860.0           409.0   \n",
      "20639    -121.24     39.37                16.0       2785.0           616.0   \n",
      "\n",
      "       population  households  median_income  median_house_value  \\\n",
      "0        0.008941    0.020556         8.3252            452600.0   \n",
      "1        0.067210    0.186976         8.3014            358500.0   \n",
      "2        0.013818    0.028943         7.2574            352100.0   \n",
      "3        0.015555    0.035849         5.6431            341300.0   \n",
      "4        0.015752    0.042427         3.8462            342200.0   \n",
      "...           ...         ...            ...                 ...   \n",
      "20635    0.023599    0.054103         1.5603             78100.0   \n",
      "20636    0.009894    0.018582         2.5568             77100.0   \n",
      "20637    0.028140    0.071041         1.7000             92300.0   \n",
      "20638    0.020684    0.057227         1.8672             84700.0   \n",
      "20639    0.038790    0.086992         2.3886             89400.0   \n",
      "\n",
      "      ocean_proximity  \n",
      "0            NEAR BAY  \n",
      "1            NEAR BAY  \n",
      "2            NEAR BAY  \n",
      "3            NEAR BAY  \n",
      "4            NEAR BAY  \n",
      "...               ...  \n",
      "20635          INLAND  \n",
      "20636          INLAND  \n",
      "20637          INLAND  \n",
      "20638          INLAND  \n",
      "20639          INLAND  \n",
      "\n",
      "[20640 rows x 10 columns]\n"
     ]
    }
   ],
   "source": [
    "max_pop=dataset[\"population\"].max()\n",
    "min_pop=dataset[\"population\"].min()\n",
    "new_values_for_pop=(dataset[\"population\"]-min_pop)/(max_pop-min_pop)\n",
    "dataset[\"population\"]=new_values_for_pop\n",
    "\n",
    "max_households=dataset[\"households\"].max()\n",
    "min_households=dataset[\"households\"].min()\n",
    "new_values_for_households=(dataset[\"households\"]-min_households)/(max_households-min_households)\n",
    "dataset[\"households\"]=new_values_for_households\n",
    "\n",
    "print(dataset)"
   ]
  },
  {
   "cell_type": "markdown",
   "metadata": {
    "id": "nZ5hAWKlpVKK"
   },
   "source": [
    "- Create a Correlation Matrix from all columns "
   ]
  },
  {
   "cell_type": "code",
   "execution_count": 138,
   "metadata": {},
   "outputs": [
    {
     "name": "stdout",
     "output_type": "stream",
     "text": [
      "                    longitude  latitude  housing_median_age  total_rooms  \\\n",
      "longitude            1.000000 -0.924664           -0.108197     0.044568   \n",
      "latitude            -0.924664  1.000000            0.011173    -0.036100   \n",
      "housing_median_age  -0.108197  0.011173            1.000000    -0.361262   \n",
      "total_rooms          0.044568 -0.036100           -0.361262     1.000000   \n",
      "total_bedrooms       0.069260 -0.066658           -0.318998     0.927253   \n",
      "population           0.099773 -0.108785           -0.296244     0.857126   \n",
      "households           0.055310 -0.071035           -0.302916     0.918484   \n",
      "median_income       -0.015176 -0.079809           -0.119034     0.198050   \n",
      "median_house_value  -0.045967 -0.144160            0.105623     0.134153   \n",
      "ocean_proximity     -0.289779  0.200974            0.112468    -0.015693   \n",
      "\n",
      "                    total_bedrooms  population  households  median_income  \\\n",
      "longitude                 0.069260    0.099773    0.055310      -0.015176   \n",
      "latitude                 -0.066658   -0.108785   -0.071035      -0.079809   \n",
      "housing_median_age       -0.318998   -0.296244   -0.302916      -0.119034   \n",
      "total_rooms               0.927253    0.857126    0.918484       0.198050   \n",
      "total_bedrooms            1.000000    0.873910    0.974725      -0.007682   \n",
      "population                0.873910    1.000000    0.907222       0.004834   \n",
      "households                0.974725    0.907222    1.000000       0.013033   \n",
      "median_income            -0.007682    0.004834    0.013033       1.000000   \n",
      "median_house_value        0.049454   -0.024650    0.065843       0.688075   \n",
      "ocean_proximity          -0.014688   -0.070282   -0.018186      -0.014957   \n",
      "\n",
      "                    median_house_value  ocean_proximity  \n",
      "longitude                    -0.045967        -0.289779  \n",
      "latitude                     -0.144160         0.200974  \n",
      "housing_median_age            0.105623         0.112468  \n",
      "total_rooms                   0.134153        -0.015693  \n",
      "total_bedrooms                0.049454        -0.014688  \n",
      "population                   -0.024650        -0.070282  \n",
      "households                    0.065843        -0.018186  \n",
      "median_income                 0.688075        -0.014957  \n",
      "median_house_value            1.000000         0.081750  \n",
      "ocean_proximity               0.081750         1.000000  \n"
     ]
    }
   ],
   "source": [
    "from sklearn.preprocessing import LabelEncoder\n",
    "label_encoder = LabelEncoder()\n",
    "dataset['ocean_proximity'] = label_encoder.fit_transform(dataset['ocean_proximity']) #to transform the ocean proximity as a numerical variable\n",
    "print(dataset.corr())"
   ]
  }
 ],
 "metadata": {
  "colab": {
   "authorship_tag": "ABX9TyP5NBWcPh6gnd0fp49eBChn",
   "provenance": []
  },
  "kernelspec": {
   "display_name": "base",
   "language": "python",
   "name": "python3"
  },
  "language_info": {
   "codemirror_mode": {
    "name": "ipython",
    "version": 3
   },
   "file_extension": ".py",
   "mimetype": "text/x-python",
   "name": "python",
   "nbconvert_exporter": "python",
   "pygments_lexer": "ipython3",
   "version": "3.11.5"
  }
 },
 "nbformat": 4,
 "nbformat_minor": 4
}
